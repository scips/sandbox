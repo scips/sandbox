{
 "cells": [
  {
   "cell_type": "code",
   "execution_count": 1,
   "id": "5e9a603c",
   "metadata": {},
   "outputs": [],
   "source": [
    "salaries_and_tenures = [(83000, 8.7), (88000, 8.1),\n",
    "                        (48000, 0.7), (76000, 6),\n",
    "                        (69000, 6.5), (76000, 7.5),\n",
    "                        (60000, 2.5), (83000, 10),\n",
    "                        (48000, 1.9), (63000, 4.2)]"
   ]
  },
  {
   "cell_type": "code",
   "execution_count": 15,
   "id": "b7b694c7",
   "metadata": {},
   "outputs": [
    {
     "name": "stdout",
     "output_type": "stream",
     "text": [
      "[(0, [48000]), (1, [48000]), (2, [60000]), (4, [63000]), (6, [76000, 69000]), (7, [76000]), (8, [83000, 88000]), (10, [83000])]\n"
     ]
    }
   ],
   "source": [
    "# Average Salaries per tenure (year)\n",
    "\n",
    "from collections import defaultdict\n",
    "\n",
    "bucket_size = 1\n",
    "\n",
    "salary_by_tenure = defaultdict(list)\n",
    "for salary, tenure in salaries_and_tenures:\n",
    "    salary_by_tenure[int(tenure/bucket_size)].append(salary)\n",
    "    \n",
    "print(sorted(salary_by_tenure.items(), key=lambda x:x[0]))"
   ]
  },
  {
   "cell_type": "code",
   "execution_count": 16,
   "id": "0ed68034",
   "metadata": {},
   "outputs": [
    {
     "name": "stdout",
     "output_type": "stream",
     "text": [
      "0 \n",
      " -  48000\n",
      "1 \n",
      " -  48000\n",
      "2 \n",
      " -  60000\n",
      "4 \n",
      " -  63000\n",
      "6 \n",
      " -  72500\n",
      "7 \n",
      " -  76000\n",
      "8 \n",
      " -  85500\n",
      "10 \n",
      " -  83000\n"
     ]
    }
   ],
   "source": [
    "from statistics import mean\n",
    "\n",
    "for bucket, salaries in sorted(salary_by_tenure.items(), key=lambda x:x[0]):\n",
    "    print(bucket*bucket_size,\"\\n - \",mean(salaries))"
   ]
  },
  {
   "cell_type": "code",
   "execution_count": null,
   "id": "17c8fce5",
   "metadata": {},
   "outputs": [],
   "source": []
  }
 ],
 "metadata": {
  "kernelspec": {
   "display_name": "Python 3 (ipykernel)",
   "language": "python",
   "name": "python3"
  },
  "language_info": {
   "codemirror_mode": {
    "name": "ipython",
    "version": 3
   },
   "file_extension": ".py",
   "mimetype": "text/x-python",
   "name": "python",
   "nbconvert_exporter": "python",
   "pygments_lexer": "ipython3",
   "version": "3.9.7"
  }
 },
 "nbformat": 4,
 "nbformat_minor": 5
}
