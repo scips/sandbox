{
 "cells": [
  {
   "cell_type": "markdown",
   "id": "61801d03",
   "metadata": {},
   "source": [
    "# Chapter 1. Introduction\n",
    "\n",
    "## Practical Finding Key Connector"
   ]
  },
  {
   "cell_type": "code",
   "execution_count": 1,
   "id": "4095fc2f",
   "metadata": {},
   "outputs": [],
   "source": [
    "users = [\n",
    "   { \"id\":0, \"name\": \"Hero\" },\n",
    "   { \"id\":1, \"name\": \"Dunn\" },\n",
    "   { \"id\":2, \"name\": \"Sue\" },\n",
    "   { \"id\":3, \"name\": \"Chi\" },\n",
    "   { \"id\":4, \"name\": \"Thor\" },\n",
    "   { \"id\":5, \"name\": \"Clive\" },\n",
    "   { \"id\":6, \"name\": \"Hicks\" },\n",
    "   { \"id\":7, \"name\": \"Devin\" },\n",
    "   { \"id\":8, \"name\": \"Kate\" },\n",
    "   { \"id\":9, \"name\": \"Klein\" }\n",
    "]       "
   ]
  },
  {
   "cell_type": "code",
   "execution_count": 2,
   "id": "ff1dc108",
   "metadata": {},
   "outputs": [],
   "source": [
    "friendship_pairs = [(0, 1), (0, 2), (1, 2), (1, 3), (2, 3), (3, 4),\n",
    "                  (4, 5), (5, 6), (5, 7), (6, 8), (7, 8), (8, 9)]"
   ]
  },
  {
   "cell_type": "code",
   "execution_count": 3,
   "id": "130d0739",
   "metadata": {},
   "outputs": [],
   "source": [
    "friendships = { user[\"id\"]: [] for user in users}"
   ]
  },
  {
   "cell_type": "code",
   "execution_count": 4,
   "id": "cd1170c6",
   "metadata": {},
   "outputs": [],
   "source": [
    "# Populate the friendships\n",
    "for i, j in friendship_pairs:\n",
    "    friendships[i].append(j)\n",
    "    friendships[j].append(i)"
   ]
  },
  {
   "cell_type": "code",
   "execution_count": 5,
   "id": "2f95b002",
   "metadata": {},
   "outputs": [],
   "source": [
    "def number_of_friends(user):\n",
    "  user_id = user[\"id\"]\n",
    "  friend_ids = friendships[user_id]\n",
    "  return len(friend_ids)"
   ]
  },
  {
   "cell_type": "code",
   "execution_count": 6,
   "id": "4b1f90cf",
   "metadata": {},
   "outputs": [
    {
     "name": "stdout",
     "output_type": "stream",
     "text": [
      "2.4\n"
     ]
    }
   ],
   "source": [
    "total_connections = sum(number_of_friends(user) for user in users)\n",
    "num_users = len(users)\n",
    "avg_connections = total_connections / num_users\n",
    "\n",
    "print(avg_connections)"
   ]
  },
  {
   "cell_type": "code",
   "execution_count": 8,
   "id": "69f8d217",
   "metadata": {},
   "outputs": [
    {
     "name": "stdout",
     "output_type": "stream",
     "text": [
      "[(1, 3), (2, 3), (3, 3), (5, 3), (8, 3), (0, 2), (4, 2), (6, 2), (7, 2), (9, 1)]\n"
     ]
    }
   ],
   "source": [
    "# Get the most connected users\n",
    "\n",
    "num_friends_by_id = [(user[\"id\"], number_of_friends(user)) for user in users]\n",
    "num_friends_by_id.sort(key=lambda id_and_friends: id_and_friends[1], reverse=True)\n",
    "\n",
    "print(num_friends_by_id)"
   ]
  },
  {
   "cell_type": "code",
   "execution_count": 9,
   "id": "87a9b280",
   "metadata": {},
   "outputs": [],
   "source": [
    "# The Friend of Friend effect\n",
    "from collections import Counter\n",
    "\n",
    "def friends_of_friends(user):\n",
    "    user_id = user[\"id\"]\n",
    "    return Counter(\n",
    "        foaf_id\n",
    "        for friend_id in friendships[user_id]\n",
    "        for foaf_id in friendships[friend_id]\n",
    "        if foaf_id != user_id\n",
    "        and foaf_id not in friendships[user_id]\n",
    "    )\n"
   ]
  },
  {
   "cell_type": "code",
   "execution_count": 10,
   "id": "69465965",
   "metadata": {},
   "outputs": [
    {
     "name": "stdout",
     "output_type": "stream",
     "text": [
      "Counter({0: 2, 5: 1})\n"
     ]
    }
   ],
   "source": [
    "print(friends_of_friends(users[3]))"
   ]
  },
  {
   "cell_type": "markdown",
   "id": "1359ed4a",
   "metadata": {},
   "source": [
    "### Find people of similar interest"
   ]
  },
  {
   "cell_type": "code",
   "execution_count": 11,
   "id": "1cc285a5",
   "metadata": {},
   "outputs": [],
   "source": [
    "interests = [\n",
    "    (0, \"Hadoop\"), (0, \"Big Data\"), (0, \"HBase\"), (0, \"Java\"),\n",
    "    (0, \"Spark\"), (0, \"Storm\"), (0, \"Cassandra\"),\n",
    "    (1, \"NoSQL\"), (1, \"MongoDB\"), (1, \"Cassandra\"), (1, \"HBase\"),\n",
    "    (1, \"Postgres\"), (2, \"Python\"), (2, \"scikit-learn\"), (2, \"scipy\"),\n",
    "    (2, \"numpy\"), (2, \"statsmodels\"), (2, \"pandas\"), (3, \"R\"), (3, \"Python\"),\n",
    "    (3, \"statistics\"), (3, \"regression\"), (3, \"probability\"),\n",
    "    (4, \"machine learning\"), (4, \"regression\"), (4, \"decision trees\"),\n",
    "    (4, \"libsvm\"), (5, \"Python\"), (5, \"R\"), (5, \"Java\"), (5, \"C++\"),\n",
    "    (5, \"Haskell\"), (5, \"programming languages\"), (6, \"statistics\"),\n",
    "    (6, \"probability\"), (6, \"mathematics\"), (6, \"theory\"),\n",
    "    (7, \"machine learning\"), (7, \"scikit-learn\"), (7, \"Mahout\"),\n",
    "    (7, \"neural networks\"), (8, \"neural networks\"), (8, \"deep learning\"),\n",
    "    (8, \"Big Data\"), (8, \"artificial intelligence\"), (9, \"Hadoop\"),\n",
    "    (9, \"Java\"), (9, \"MapReduce\"), (9, \"Big Data\")\n",
    "]"
   ]
  },
  {
   "cell_type": "code",
   "execution_count": 14,
   "id": "be776e86",
   "metadata": {},
   "outputs": [
    {
     "name": "stdout",
     "output_type": "stream",
     "text": [
      "[2, 3, 5]\n"
     ]
    }
   ],
   "source": [
    "# classical way\n",
    "def data_scientist_who_like(target_interest):\n",
    "    return [user_id for user_id, interest in interests\n",
    "    if interest == target_interest]\n",
    "\n",
    "print(data_scientist_who_like(\"Python\"))"
   ]
  },
  {
   "cell_type": "code",
   "execution_count": 15,
   "id": "852edce2",
   "metadata": {},
   "outputs": [],
   "source": [
    "# the proper way with an indec\n",
    "from collections import defaultdict\n",
    "\n",
    "# create a dict of user by interest\n",
    "user_ids_by_interest = defaultdict(list)\n",
    "\n",
    "for user_id, interest in interests:\n",
    "    user_ids_by_interest[interest].append(user_id)\n",
    "    \n",
    "# create a dict of interest by user\n",
    "interests_by_user_id = defaultdict(list)\n",
    "\n",
    "for user_id, interest in interests:\n",
    "    interests_by_user_id[user_id].append(interest)"
   ]
  },
  {
   "cell_type": "code",
   "execution_count": 16,
   "id": "2af0fbcf",
   "metadata": {},
   "outputs": [],
   "source": [
    "# Find the most common interest\n",
    "def most_common_interests_with(user):\n",
    "    user_id = user[\"id\"]\n",
    "    return Counter(\n",
    "        interested_user_id\n",
    "        for interest in interests_by_user_id[user_id]\n",
    "        for interested_user_id in user_ids_by_interest[interest]\n",
    "        if interested_user_id != user_id\n",
    "    )"
   ]
  },
  {
   "cell_type": "code",
   "execution_count": 22,
   "id": "bafc1bd1",
   "metadata": {},
   "outputs": [
    {
     "name": "stdout",
     "output_type": "stream",
     "text": [
      "for user  Hero  common person  4\n",
      "Counter({9: 3, 1: 2, 8: 1, 5: 1})\n",
      "for user  Dunn  common person  1\n",
      "Counter({0: 2})\n",
      "for user  Sue  common person  3\n",
      "Counter({3: 1, 5: 1, 7: 1})\n",
      "for user  Chi  common person  4\n",
      "Counter({5: 2, 6: 2, 2: 1, 4: 1})\n",
      "for user  Thor  common person  2\n",
      "Counter({7: 1, 3: 1})\n",
      "for user  Clive  common person  4\n",
      "Counter({3: 2, 2: 1, 0: 1, 9: 1})\n",
      "for user  Hicks  common person  1\n",
      "Counter({3: 2})\n",
      "for user  Devin  common person  3\n",
      "Counter({4: 1, 2: 1, 8: 1})\n",
      "for user  Kate  common person  3\n",
      "Counter({7: 1, 0: 1, 9: 1})\n",
      "for user  Klein  common person  3\n",
      "Counter({0: 3, 5: 1, 8: 1})\n"
     ]
    }
   ],
   "source": [
    "for user in users:\n",
    "    top_interest = most_common_interests_with(user)\n",
    "    print(\"for user \", user[\"name\"], \" common person \", len(top_interest))\n",
    "    print(top_interest)"
   ]
  },
  {
   "cell_type": "code",
   "execution_count": null,
   "id": "096b3649",
   "metadata": {},
   "outputs": [],
   "source": []
  }
 ],
 "metadata": {
  "kernelspec": {
   "display_name": "Python 3 (ipykernel)",
   "language": "python",
   "name": "python3"
  },
  "language_info": {
   "codemirror_mode": {
    "name": "ipython",
    "version": 3
   },
   "file_extension": ".py",
   "mimetype": "text/x-python",
   "name": "python",
   "nbconvert_exporter": "python",
   "pygments_lexer": "ipython3",
   "version": "3.9.7"
  }
 },
 "nbformat": 4,
 "nbformat_minor": 5
}
